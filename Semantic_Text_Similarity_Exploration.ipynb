{
 "cells": [
  {
   "cell_type": "markdown",
   "metadata": {
    "id": "pNIO2JKrHJiW"
   },
   "source": [
    "# Semantic Text Similarity Exploration\n",
    "Exploring Text Similarity options and concepts.  The following code is taken or based heavily off of the work done by Zayed Rais and Ali Zahid Raja, which is available [here](https://github.com/zayedrais/DocumentSearchEngine/blob/master/Document%20Search%20Engine.ipynb) and [here](https://medium.com/@zayedrais/build-your-semantic-document-search-engine-with-tf-idf-and-google-use-c836bf5f27fb). "
   ]
  },
  {
   "cell_type": "code",
   "execution_count": 1,
   "metadata": {
    "id": "7lI_n1z1IHuw"
   },
   "outputs": [],
   "source": [
    "# First, we're adding our import statements. \n",
    "import pandas as pd\n",
    "import numpy as np\n",
    "import spacy\n",
    "import os \n",
    "import re\n",
    "import operator\n",
    "import pickle\n",
    "import nltk \n",
    "from nltk.tokenize import word_tokenize\n",
    "from nltk import pos_tag\n",
    "from nltk.corpus import stopwords\n",
    "from nltk.stem import WordNetLemmatizer\n",
    "from collections import defaultdict\n",
    "from nltk.corpus import wordnet as wn\n",
    "from sklearn.feature_extraction.text import TfidfVectorizer"
   ]
  },
  {
   "cell_type": "code",
   "execution_count": 2,
   "metadata": {
    "id": "XQNAg4peIYn3"
   },
   "outputs": [],
   "source": [
    "# Load the data; in this case, it's the NewsGroup DataSet\n",
    "# We load the data using the Pandas Dataset. \n",
    "news = pd.read_json('https://raw.githubusercontent.com/zayedrais/DocumentSearchEngine/master/data/newsgroups.json')"
   ]
  },
  {
   "cell_type": "code",
   "execution_count": 3,
   "metadata": {
    "id": "T3MAvLgcIgOh"
   },
   "outputs": [],
   "source": [
    "# Retrieving the document subject through pandas. \n",
    "# This function was built by the authors to do that. \n",
    "\n",
    "# enumerate provides the index of the contents. \n",
    "for i,txt in enumerate(news['content']):\n",
    "    # Find all is a function of the regular expression library. \n",
    "    # In the data, \"Subject:\" indicates teh subject of the news article. \n",
    "    # Therefore, this code will obtain that. \n",
    "    subject = re.findall('Subject:(.*\\n)',txt)\n",
    "    if (len(subject) !=0):\n",
    "        #.loc accesses a group of row/columns by label. \n",
    "        news.loc[i,'Subject'] =str(i)+' '+subject[0]\n",
    "    else:\n",
    "        news.loc[i,'Subject'] ='NA'"
   ]
  },
  {
   "cell_type": "code",
   "execution_count": 4,
   "metadata": {
    "id": "5U5VvRpzJ7mM"
   },
   "outputs": [],
   "source": [
    "df_news =news[['Subject','content']]"
   ]
  },
  {
   "cell_type": "code",
   "execution_count": 5,
   "metadata": {
    "colab": {
     "base_uri": "https://localhost:8080/",
     "height": 1000
    },
    "id": "38KWaz51KgVW",
    "outputId": "8950bb81-8e04-460b-854a-661ad7893327"
   },
   "outputs": [],
   "source": [
    "#TextHero - testing to see if this will work better than previous solution.\n",
    "import texthero as hero"
   ]
  },
  {
   "cell_type": "code",
   "execution_count": 6,
   "metadata": {
    "colab": {
     "base_uri": "https://localhost:8080/",
     "height": 306
    },
    "id": "hziKxjb7KCaW",
    "outputId": "436cbd80-2ce8-44be-ddf3-4f6570f38806"
   },
   "outputs": [
    {
     "name": "stderr",
     "output_type": "stream",
     "text": [
      "/Users/ronak.k.bhatia/Library/Python/3.7/lib/python/site-packages/ipykernel_launcher.py:12: SettingWithCopyWarning: \n",
      "A value is trying to be set on a copy of a slice from a DataFrame.\n",
      "Try using .loc[row_indexer,col_indexer] = value instead\n",
      "\n",
      "See the caveats in the documentation: https://pandas.pydata.org/pandas-docs/stable/user_guide/indexing.html#returning-a-view-versus-a-copy\n",
      "  if sys.path[0] == '':\n",
      "/usr/local/lib/python3.7/site-packages/pandas/core/generic.py:5168: SettingWithCopyWarning: \n",
      "A value is trying to be set on a copy of a slice from a DataFrame.\n",
      "Try using .loc[row_indexer,col_indexer] = value instead\n",
      "\n",
      "See the caveats in the documentation: https://pandas.pydata.org/pandas-docs/stable/user_guide/indexing.html#returning-a-view-versus-a-copy\n",
      "  self[name] = value\n"
     ]
    }
   ],
   "source": [
    "# Now, doing Data Cleaning and Pre-Processing\n",
    "# Change all the text to lower case. \n",
    "\n",
    "from texthero import preprocessing\n",
    "# https://pypi.org/project/texthero/\n",
    "# Texthero is a really good library built off of Pandas and it allows for those with minimal knowledge of the NLP space to utilize powerful tools. \n",
    "\n",
    "# print(df_news) - if you want to check what data looks like before hand\n",
    "\n",
    "# How the previous authors did it... this seemed too complicated. \n",
    "\n",
    "df_news['content']=[entry.lower() for entry in df_news['content']]\n",
    "\n",
    "SW=['subject:','organization:','thanks','thank','re:']\n",
    "for sw in SW:\n",
    "    df_news.content=df_news.content.replace(to_replace=sw,value='',regex=True)\n",
    "\n",
    "## data Cleaning for content data of news\n",
    "df_news.content =df_news.content.replace(to_replace='from:(.*\\n)',value='',regex=True) #remove from to email \n",
    "df_news.content =df_news.content.replace(to_replace='lines:(.*\\n)',value='',regex=True)\n",
    "df_news.content =df_news.content.replace(to_replace='[!\"#$%&\\'()*+,/:;<=>?@[\\\\]^_`{|}~]',value=' ',regex=True) #remove punctuation except\n",
    "df_news.content =df_news.content.replace(to_replace='-',value=' ',regex=True)\n",
    "df_news.content =df_news.content.replace(to_replace='\\s+',value=' ',regex=True)    #remove new line\n",
    "df_news.content =df_news.content.replace(to_replace='  ',value='',regex=True)                #remove double white space\n",
    "df_news.content =df_news.content.apply(lambda x:x.strip())  # Ltrim and Rtrim of whitespace\n",
    "\n",
    "df_news.Subject =df_news.Subject.replace(to_replace='Re:',value='',regex=True)\n",
    "df_news.Subject =df_news.Subject.replace(to_replace='[!\"#$%&\\'()*+,-./:;<=>?@[\\\\]^_`{|}~]',value=' ',regex=True)\n",
    "df_news.Subject =df_news.Subject.replace(to_replace='\\s+',value=' ',regex=True)    #remove new line\n",
    "df_news.Subject =df_news.Subject.replace(to_replace='  ',value='',regex=True)    #remove double white space\n",
    "df_news.Subject =df_news.Subject.apply(lambda x:x.strip())\n",
    "\n",
    "# print(df_news.content)\n",
    "# print(df_news.Subject)\n",
    "\n",
    "# My solution, which works as well! \n",
    "# It seems this solution even accounts for common stop words... and it's only three lines of code. \n",
    "# https://texthero.org/docs/api-preprocessing\n",
    "\n",
    "custom_pipeline = [preprocessing.lowercase,\n",
    "                   preprocessing.remove_punctuation,\n",
    "                   preprocessing.remove_urls]\n",
    "\n",
    "# df_news.content = hero.clean(df_news['content'])\n",
    "# df_news.Subject = hero.clean(df_news['Subject'])\n",
    "# print(df_news.content) \n",
    "# print(df_news.Subject) \n",
    "\n",
    "## ## Checking and droping empty data\n",
    "for i,sen in enumerate(df_news.content):\n",
    "    if len(sen.strip()) ==0:\n",
    "        print(str(i))\n",
    "        #file_data.text[i] = np.nan\n",
    "        df_news=df_news.drop(str(i),axis=0).reset_index().drop('index',axis=1)"
   ]
  },
  {
   "cell_type": "code",
   "execution_count": 7,
   "metadata": {
    "colab": {
     "base_uri": "https://localhost:8080/",
     "height": 205
    },
    "id": "KTxGJ4aDKM9C",
    "outputId": "7aa54da9-cca8-46f1-fc9d-95d9ad9b0ba4"
   },
   "outputs": [
    {
     "name": "stderr",
     "output_type": "stream",
     "text": [
      "[nltk_data] Downloading package punkt to\n",
      "[nltk_data]     /Users/ronak.k.bhatia/nltk_data...\n",
      "[nltk_data]   Unzipping tokenizers/punkt.zip.\n",
      "/Users/ronak.k.bhatia/Library/Python/3.7/lib/python/site-packages/ipykernel_launcher.py:6: SettingWithCopyWarning: \n",
      "A value is trying to be set on a copy of a slice from a DataFrame.\n",
      "Try using .loc[row_indexer,col_indexer] = value instead\n",
      "\n",
      "See the caveats in the documentation: https://pandas.pydata.org/pandas-docs/stable/user_guide/indexing.html#returning-a-view-versus-a-copy\n",
      "  \n"
     ]
    }
   ],
   "source": [
    "# Now, doing Word Tokenization\n",
    "# Tokenization is hwen each entry in the data is broken down into a set of words.\n",
    "import nltk\n",
    "nltk.download('punkt')\n",
    "\n",
    "df_news['Word tokenize']= [word_tokenize(entry) for entry in df_news.content]\n"
   ]
  },
  {
   "cell_type": "code",
   "execution_count": 9,
   "metadata": {
    "id": "deAly7AZRHUY"
   },
   "outputs": [],
   "source": [
    "# WordNetLemmatizer requires Pos tags to understand if the word is noun or verb or adjective etc. By default it is set to Noun\n",
    "def wordLemmatizer(data):\n",
    "    tag_map = defaultdict(lambda : wn.NOUN)\n",
    "    tag_map['J'] = wn.ADJ\n",
    "    tag_map['V'] = wn.VERB\n",
    "    tag_map['R'] = wn.ADV\n",
    "    file_clean_k =pd.DataFrame()\n",
    "    for index,entry in enumerate(data):\n",
    "        \n",
    "        # Declaring Empty List to store the words that follow the rules for this step\n",
    "        Final_words = []\n",
    "        # Initializing WordNetLemmatizer()\n",
    "        word_Lemmatized = WordNetLemmatizer()\n",
    "        # pos_tag function below will provide the 'tag' i.e if the word is Noun(N) or Verb(V) or something else.\n",
    "        for word, tag in pos_tag(entry):\n",
    "            # Below condition is to check for Stop words and consider only alphabets\n",
    "            if len(word)>1 and word not in stopwords.words('english') and word.isalpha():\n",
    "                word_Final = word_Lemmatized.lemmatize(word,tag_map[tag[0]])\n",
    "                Final_words.append(word_Final)\n",
    "            # The final processed set of words for each iteration will be stored in 'text_final'\n",
    "                file_clean_k.loc[index,'Keyword_final'] = str(Final_words)\n",
    "                file_clean_k.loc[index,'Keyword_final'] = str(Final_words)\n",
    "                #file_clean_k=file_clean_k.replace(to_replace =\"\\[.\", value = '', regex = True)\n",
    "                #file_clean_k=file_clean_k.replace(to_replace =\"'\", value = '', regex = True)\n",
    "                #file_clean_k=file_clean_k.replace(to_replace =\" \", value = '', regex = True)\n",
    "                #file_clean_k=file_clean_k.replace(to_replace ='\\]', value = '', regex = True)\n",
    "    return file_clean_k"
   ]
  },
  {
   "cell_type": "code",
   "execution_count": 20,
   "metadata": {
    "id": "17D7nTBNRmIj"
   },
   "outputs": [],
   "source": [
    "# My version of lemmatization based on the Coursera code/work I've done previously... \n",
    "\n",
    "# Lemmatization usually refers to doing things properly with the use of a vocabulary and morphological analysis of words, \n",
    "# normally aiming to remove inflectional endings only and to return the base or dictionary form of a word, which is known as the lemma.\n",
    "# tl;dr put the verbs in their \"stem\" form. \n",
    "\n",
    "def lemmatization(texts, allowed_postags=['NOUN', 'ADJ', 'VERB', 'ADV']):\n",
    "    \"\"\"https://spacy.io/api/annotation\"\"\"\n",
    "    texts_out = []\n",
    "    for sent in texts:\n",
    "        doc = nlp(\" \".join(sent)) \n",
    "        texts_out.append(\" \".join([token.lemma_ if token.lemma_ not in ['-PRON-'] else '' for token in doc if token.pos_ in allowed_postags]))\n",
    "    return texts_out\n",
    "\n",
    "# Initialize spacy 'en' model, keeping only tagger component (for efficiency)\n",
    "\n",
    "nlp = spacy.load('en_core_web_sm', disable=['parser', 'ner'])\n"
   ]
  },
  {
   "cell_type": "code",
   "execution_count": 21,
   "metadata": {
    "colab": {
     "base_uri": "https://localhost:8080/",
     "height": 34
    },
    "id": "xOzCUMcpYLUh",
    "outputId": "81f3bf48-d2ad-4192-8f28-5d1b3b89ed57"
   },
   "outputs": [
    {
     "data": {
      "text/plain": [
       "(11314, 3)"
      ]
     },
     "execution_count": 21,
     "metadata": {},
     "output_type": "execute_result"
    }
   ],
   "source": [
    "df_news.shape"
   ]
  },
  {
   "cell_type": "code",
   "execution_count": 22,
   "metadata": {
    "colab": {
     "base_uri": "https://localhost:8080/",
     "height": 427
    },
    "id": "7lnJXiWiYMZ2",
    "outputId": "50cb4938-47fd-4dd1-c71f-e8cddb7ffd54"
   },
   "outputs": [
    {
     "name": "stderr",
     "output_type": "stream",
     "text": [
      "[nltk_data] Downloading package wordnet to\n",
      "[nltk_data]     /Users/ronak.k.bhatia/nltk_data...\n",
      "[nltk_data]   Package wordnet is already up-to-date!\n",
      "[nltk_data] Downloading package averaged_perceptron_tagger to\n",
      "[nltk_data]     /Users/ronak.k.bhatia/nltk_data...\n",
      "[nltk_data]   Package averaged_perceptron_tagger is already up-to-\n",
      "[nltk_data]       date!\n"
     ]
    },
    {
     "data": {
      "text/html": [
       "<div>\n",
       "<style scoped>\n",
       "    .dataframe tbody tr th:only-of-type {\n",
       "        vertical-align: middle;\n",
       "    }\n",
       "\n",
       "    .dataframe tbody tr th {\n",
       "        vertical-align: top;\n",
       "    }\n",
       "\n",
       "    .dataframe thead th {\n",
       "        text-align: right;\n",
       "    }\n",
       "</style>\n",
       "<table border=\"1\" class=\"dataframe\">\n",
       "  <thead>\n",
       "    <tr style=\"text-align: right;\">\n",
       "      <th></th>\n",
       "      <th>Keyword_final</th>\n",
       "    </tr>\n",
       "  </thead>\n",
       "  <tbody>\n",
       "    <tr>\n",
       "      <th>0</th>\n",
       "      <td>['car', 'nntp', 'post', 'host', 'university', ...</td>\n",
       "    </tr>\n",
       "    <tr>\n",
       "      <th>1</th>\n",
       "      <td>['si', 'clock', 'poll', 'final', 'call', 'summ...</td>\n",
       "    </tr>\n",
       "    <tr>\n",
       "      <th>2</th>\n",
       "      <td>['pb', 'question', 'purdue', 'university', 'en...</td>\n",
       "    </tr>\n",
       "    <tr>\n",
       "      <th>3</th>\n",
       "      <td>['weitek', 'harris', 'computer', 'system', 'di...</td>\n",
       "    </tr>\n",
       "    <tr>\n",
       "      <th>4</th>\n",
       "      <td>['shuttle', 'launch', 'question', 'smithsonian...</td>\n",
       "    </tr>\n",
       "    <tr>\n",
       "      <th>5</th>\n",
       "      <td>['reword', 'second', 'amendment', 'idea', 'vtt...</td>\n",
       "    </tr>\n",
       "    <tr>\n",
       "      <th>6</th>\n",
       "      <td>['brain', 'tumor', 'treatment', 'reply', 'bmde...</td>\n",
       "    </tr>\n",
       "    <tr>\n",
       "      <th>7</th>\n",
       "      <td>['ide', 'vs', 'scsi', 'new', 'mexico', 'state'...</td>\n",
       "    </tr>\n",
       "    <tr>\n",
       "      <th>8</th>\n",
       "      <td>['win', 'icon', 'help', 'please', 'university'...</td>\n",
       "    </tr>\n",
       "    <tr>\n",
       "      <th>9</th>\n",
       "      <td>['sigma', 'design', 'double', 'article', 'univ...</td>\n",
       "    </tr>\n",
       "  </tbody>\n",
       "</table>\n",
       "</div>"
      ],
      "text/plain": [
       "                                       Keyword_final\n",
       "0  ['car', 'nntp', 'post', 'host', 'university', ...\n",
       "1  ['si', 'clock', 'poll', 'final', 'call', 'summ...\n",
       "2  ['pb', 'question', 'purdue', 'university', 'en...\n",
       "3  ['weitek', 'harris', 'computer', 'system', 'di...\n",
       "4  ['shuttle', 'launch', 'question', 'smithsonian...\n",
       "5  ['reword', 'second', 'amendment', 'idea', 'vtt...\n",
       "6  ['brain', 'tumor', 'treatment', 'reply', 'bmde...\n",
       "7  ['ide', 'vs', 'scsi', 'new', 'mexico', 'state'...\n",
       "8  ['win', 'icon', 'help', 'please', 'university'...\n",
       "9  ['sigma', 'design', 'double', 'article', 'univ..."
      ]
     },
     "execution_count": 22,
     "metadata": {},
     "output_type": "execute_result"
    }
   ],
   "source": [
    "import nltk\n",
    "nltk.download('wordnet')\n",
    "nltk.download('averaged_perceptron_tagger')\n",
    "\n",
    "df_clean = wordLemmatizer(df_news['Word tokenize'][0:10]) \n",
    "# FOR THE WHOLE DATASET: \n",
    "# df_clean = wordLemmatizer(df_news['Word tokenize'])\n",
    "df_clean"
   ]
  },
  {
   "cell_type": "code",
   "execution_count": 23,
   "metadata": {
    "colab": {
     "base_uri": "https://localhost:8080/",
     "height": 343
    },
    "id": "1Q5c7yUeY-5j",
    "outputId": "ca97e327-ff88-4fb2-fc8a-81fc2cd5b8f6"
   },
   "outputs": [
    {
     "data": {
      "text/html": [
       "<div>\n",
       "<style scoped>\n",
       "    .dataframe tbody tr th:only-of-type {\n",
       "        vertical-align: middle;\n",
       "    }\n",
       "\n",
       "    .dataframe tbody tr th {\n",
       "        vertical-align: top;\n",
       "    }\n",
       "\n",
       "    .dataframe thead th {\n",
       "        text-align: right;\n",
       "    }\n",
       "</style>\n",
       "<table border=\"1\" class=\"dataframe\">\n",
       "  <thead>\n",
       "    <tr style=\"text-align: right;\">\n",
       "      <th></th>\n",
       "      <th>Keyword_final</th>\n",
       "    </tr>\n",
       "  </thead>\n",
       "  <tbody>\n",
       "    <tr>\n",
       "      <th>0</th>\n",
       "      <td>car,nntp,post,host,university,maryland,college...</td>\n",
       "    </tr>\n",
       "    <tr>\n",
       "      <th>1</th>\n",
       "      <td>si,clock,poll,final,call,summary,final,call,si...</td>\n",
       "    </tr>\n",
       "    <tr>\n",
       "      <th>2</th>\n",
       "      <td>pb,question,purdue,university,engineering,comp...</td>\n",
       "    </tr>\n",
       "    <tr>\n",
       "      <th>3</th>\n",
       "      <td>weitek,harris,computer,system,division,distrib...</td>\n",
       "    </tr>\n",
       "    <tr>\n",
       "      <th>4</th>\n",
       "      <td>shuttle,launch,question,smithsonian,astrophysi...</td>\n",
       "    </tr>\n",
       "    <tr>\n",
       "      <th>5</th>\n",
       "      <td>reword,second,amendment,idea,vtt,article,cdt,t...</td>\n",
       "    </tr>\n",
       "    <tr>\n",
       "      <th>6</th>\n",
       "      <td>brain,tumor,treatment,reply,bmdelane,universit...</td>\n",
       "    </tr>\n",
       "    <tr>\n",
       "      <th>7</th>\n",
       "      <td>ide,vs,scsi,new,mexico,state,university,la,cru...</td>\n",
       "    </tr>\n",
       "    <tr>\n",
       "      <th>8</th>\n",
       "      <td>win,icon,help,please,university,northern,iowa,...</td>\n",
       "    </tr>\n",
       "    <tr>\n",
       "      <th>9</th>\n",
       "      <td>sigma,design,double,article,university,illinoi...</td>\n",
       "    </tr>\n",
       "  </tbody>\n",
       "</table>\n",
       "</div>"
      ],
      "text/plain": [
       "                                       Keyword_final\n",
       "0  car,nntp,post,host,university,maryland,college...\n",
       "1  si,clock,poll,final,call,summary,final,call,si...\n",
       "2  pb,question,purdue,university,engineering,comp...\n",
       "3  weitek,harris,computer,system,division,distrib...\n",
       "4  shuttle,launch,question,smithsonian,astrophysi...\n",
       "5  reword,second,amendment,idea,vtt,article,cdt,t...\n",
       "6  brain,tumor,treatment,reply,bmdelane,universit...\n",
       "7  ide,vs,scsi,new,mexico,state,university,la,cru...\n",
       "8  win,icon,help,please,university,northern,iowa,...\n",
       "9  sigma,design,double,article,university,illinoi..."
      ]
     },
     "execution_count": 23,
     "metadata": {},
     "output_type": "execute_result"
    }
   ],
   "source": [
    "df_clean=df_clean.replace(to_replace =\"\\[.\", value = '', regex = True)\n",
    "df_clean=df_clean.replace(to_replace =\"'\", value = '', regex = True)\n",
    "df_clean=df_clean.replace(to_replace =\" \", value = '', regex = True)\n",
    "df_clean=df_clean.replace(to_replace ='\\]', value = '', regex = True)\n",
    "df_clean"
   ]
  },
  {
   "cell_type": "code",
   "execution_count": 24,
   "metadata": {
    "colab": {
     "base_uri": "https://localhost:8080/",
     "height": 54
    },
    "id": "BWfR1i27YQqv",
    "outputId": "7366fadd-5d8b-4d3b-fa66-f112e145c4aa"
   },
   "outputs": [
    {
     "name": "stdout",
     "output_type": "stream",
     "text": [
      "['car nntp post host rac3.wam.umd.edu wonder out could enlighten car see other day door sport car look late early 70 call bricklin door really small addition front bumper separate rest body know can tellme model name engine spec year production where car make history info funky look car e mail bring neighborhood lerxst', 'si final summary final call si clock report keyword si acceleration clock post host carson.u.washington.edu fair number brave soul upgrade si clock oscillator share experience poll send brief message detail experience procedure top speed attain rated speed add card adapter heat sink hour usage day floppy disk functionality floppy especially request will summarize next day so add network knowledge base do clock upgrade answer poll', 'pb question computer network distribution folk finally give ghost weekend start life way back market new machine bit soon intend look pick powerbook maybe bunch question hopefully can answer know dirt when next round powerbook introduction expect hear 185c suppose make appearence summer hear anymore don access wonder out there more info hear rumor price drop line one duo just go recently s impression display could probably swing get mb disk rather don really feel how much well display look great store really that good could solicit opinion people use day day worth take disk size money hit active display realize real subjective question only play around machine computer store breifly figure opinion actually use machine daily may prove helpful how well hellcat perform bunch advance info could email will post summary news reading time premium final just corner purdue electrical engineering conviction more dangerous enemy truth lie', 'system division distribution world nntp posting host newsreader tin version pl9 write write article abraxis.734340159 know graphic chip as far low level stuff go look pretty nice s get quadrilateral fill command require just point address phone number like information chip computer system division only thing really scare person sense humor winter', 'article c5owcb.n3p tombaker baker article c5jlwx.4h9.1 cs.cmu.edu pack rat write clear caution warn memory verify unexpected error wonder expect error may really dumb question parity error memory previously know condition waivere error already know d curious real meaning quote understanding expect error basically know bug warning system software thing check right value yet aren t set launch suchlike rather fix code possibly introduce new bug just tell crew see warning no liftoff ignore', 'reword second idea article t transfer.stratus.com write article write article transfer.stratus.com write article write massive destructive power many modern weapon make cost accidental crimial usage weapon great weapon mass destruction need control government only individual access would result needless death million make right people keep bear many modern weapon non existant state where re come needless say disagree count believe individual should right own weapon mass destruction find hard believe would support neighbor right keep nuclear weapon biological weapon nerve gas property can even agree keep weapon mass destruction hand individual can hope don sign blank check of course term must rigidly define bill when say weapon mass destruction mean when say weapon mass destruction mean shotgun semi automatic rifle doubt use term use quote allegedly can back when say weapon mass destruction then immediately follow thousand people kill year handgun number can easily reduce put reasonable restriction mean term read article present first argument weapon mass destruction commonly understand then switch other topic first point evidently show weapon should allow then later analysis give understanding consider class believe speak company write today special investor', 'brain tumor treatment reply few people respond request info treatment astrocytoma email couldn directly mail bouncing prob so think d publicly m sure glad accidentally hit instead when try delete file last news s', 'distribution world nntp post host dante.nmsu.edu write article dante.nmsu.edu say magazine scsi twice fasst fast ide support device acceptance long stall incompatability problem installation headache love when magazine writer make stupid statement performance where number will list actual performance range should convince statement absurd scsi range range mb ide range always mb s non standard version show don know much scsi scsi scsi chip range indeed mb s right scsi scsi scsi controller chip mb mb burst bit note increase speed use version exist pc use set too bit scsi mode mb mb burst bit wide fast mode mb s mb burst bit wide fast mb mb burst own datum scsi twice as fast correct scsi controller chip scsi can reach mb indeed fast ide scsi fact post newsgroup sheet available report should may still there part problem inconsiant scsi well document quadra scsi chip apple salesperson say use fast scsi chip mb mb burst mb s maximum synchronous use ansynchronous scsi slow seem see scsi interface think scsi when maybe scsi interface drive machine scsi controller chip bit mode much fast then true scsi can go article don understand go reference controller chip review', 'win icon help win download several icon can t figure how change wallpaper use icon help would appreciate mail', 'design double article a. write look information sigma design double board can figure hardware compression board work sure also how much would cost ve board year work diskdoubler licensing problem technology owner board technology m write memory ve lose reference correct wrong use board ve problem file icon lose s hard say s board fault else however decompress troubled file recompress board icon usually reappear above mention licensing problem expansion utility will decompress board compress file board instal own product now seem unlikely hole relate board will fix sad make very reluctant buy product re so stinky s competition compute phone email stankerr']\n"
     ]
    }
   ],
   "source": [
    "# Do lemmatization keeping only Noun, Adjective, Verb, Adverb\n",
    "# This is using my version. \n",
    "df_clean = lemmatization(df_news['Word tokenize'][0:10], allowed_postags=['NOUN', 'ADJ', 'VERB', 'ADV'])\n",
    "print(df_clean)"
   ]
  },
  {
   "cell_type": "code",
   "execution_count": 25,
   "metadata": {
    "id": "9_-rBznaZopw"
   },
   "outputs": [],
   "source": [
    "#Add Lemmatized words to the dataframe\n",
    "## Insert New column in df_news to stored the Clean Keyword\n",
    "# df_news.insert(loc=3, column='Clean_Keyword', value=df_clean['Keyword_final'].tolist())"
   ]
  },
  {
   "cell_type": "code",
   "execution_count": 26,
   "metadata": {
    "id": "ByGkcUmPbKTl"
   },
   "outputs": [],
   "source": [
    "## Already Word lemmatize clean keywords the below path:-\n",
    "#df_news[['Subject','Clean_Keyword']].to_json(\"WordLemmatize20NewsGroup.json\")\n",
    "df = pd.read_json('https://raw.githubusercontent.com/zayedrais/DocumentSearchEngine/master/data/WordLemmatize20NewsGroup.json')\n",
    "df_news['Clean_Keyword'] = df['Clean_Keyword']"
   ]
  },
  {
   "cell_type": "code",
   "execution_count": 27,
   "metadata": {
    "colab": {
     "base_uri": "https://localhost:8080/",
     "height": 519
    },
    "id": "YdEW3qrBdguq",
    "outputId": "6793cf79-4569-40c3-d674-760109cf9566"
   },
   "outputs": [
    {
     "data": {
      "text/html": [
       "<div>\n",
       "<style scoped>\n",
       "    .dataframe tbody tr th:only-of-type {\n",
       "        vertical-align: middle;\n",
       "    }\n",
       "\n",
       "    .dataframe tbody tr th {\n",
       "        vertical-align: top;\n",
       "    }\n",
       "\n",
       "    .dataframe thead th {\n",
       "        text-align: right;\n",
       "    }\n",
       "</style>\n",
       "<table border=\"1\" class=\"dataframe\">\n",
       "  <thead>\n",
       "    <tr style=\"text-align: right;\">\n",
       "      <th></th>\n",
       "      <th>Subject</th>\n",
       "      <th>content</th>\n",
       "    </tr>\n",
       "  </thead>\n",
       "  <tbody>\n",
       "    <tr>\n",
       "      <th>0</th>\n",
       "      <td>0 WHAT car is this</td>\n",
       "      <td>what car is this nntp posting host rac3.wam.um...</td>\n",
       "    </tr>\n",
       "    <tr>\n",
       "      <th>1</th>\n",
       "      <td>1 SI Clock Poll Final Call</td>\n",
       "      <td>si clock poll final call summary final call fo...</td>\n",
       "    </tr>\n",
       "    <tr>\n",
       "      <th>2</th>\n",
       "      <td>2 PB questions</td>\n",
       "      <td>pb questions... purdue university engineering ...</td>\n",
       "    </tr>\n",
       "    <tr>\n",
       "      <th>3</th>\n",
       "      <td>3 Weitek P9000</td>\n",
       "      <td>weitek p9000 harris computer systems division ...</td>\n",
       "    </tr>\n",
       "    <tr>\n",
       "      <th>4</th>\n",
       "      <td>4 Shuttle Launch Question</td>\n",
       "      <td>shuttle launch question smithsonian astrophysi...</td>\n",
       "    </tr>\n",
       "    <tr>\n",
       "      <th>...</th>\n",
       "      <td>...</td>\n",
       "      <td>...</td>\n",
       "    </tr>\n",
       "    <tr>\n",
       "      <th>11309</th>\n",
       "      <td>11309 Migraines and scans</td>\n",
       "      <td>migraines and scans distribution world inventi...</td>\n",
       "    </tr>\n",
       "    <tr>\n",
       "      <th>11310</th>\n",
       "      <td>11310 Screen Death Mac Plus 512</td>\n",
       "      <td>screen death mac plus 512 tufts university med...</td>\n",
       "    </tr>\n",
       "    <tr>\n",
       "      <th>11311</th>\n",
       "      <td>11311 Mounting CPU Cooler in vertical case</td>\n",
       "      <td>mounting cpu cooler in vertical case mail grou...</td>\n",
       "    </tr>\n",
       "    <tr>\n",
       "      <th>11312</th>\n",
       "      <td>11312 Sphere from 4 points</td>\n",
       "      <td>sphere from 4 points central research lab. hit...</td>\n",
       "    </tr>\n",
       "    <tr>\n",
       "      <th>11313</th>\n",
       "      <td>11313 stolen CBR900RR</td>\n",
       "      <td>stolen cbr900rr california institute of techno...</td>\n",
       "    </tr>\n",
       "  </tbody>\n",
       "</table>\n",
       "<p>11314 rows × 2 columns</p>\n",
       "</div>"
      ],
      "text/plain": [
       "                                          Subject  \\\n",
       "0                              0 WHAT car is this   \n",
       "1                      1 SI Clock Poll Final Call   \n",
       "2                                  2 PB questions   \n",
       "3                                  3 Weitek P9000   \n",
       "4                       4 Shuttle Launch Question   \n",
       "...                                           ...   \n",
       "11309                   11309 Migraines and scans   \n",
       "11310             11310 Screen Death Mac Plus 512   \n",
       "11311  11311 Mounting CPU Cooler in vertical case   \n",
       "11312                  11312 Sphere from 4 points   \n",
       "11313                       11313 stolen CBR900RR   \n",
       "\n",
       "                                                 content  \n",
       "0      what car is this nntp posting host rac3.wam.um...  \n",
       "1      si clock poll final call summary final call fo...  \n",
       "2      pb questions... purdue university engineering ...  \n",
       "3      weitek p9000 harris computer systems division ...  \n",
       "4      shuttle launch question smithsonian astrophysi...  \n",
       "...                                                  ...  \n",
       "11309  migraines and scans distribution world inventi...  \n",
       "11310  screen death mac plus 512 tufts university med...  \n",
       "11311  mounting cpu cooler in vertical case mail grou...  \n",
       "11312  sphere from 4 points central research lab. hit...  \n",
       "11313  stolen cbr900rr california institute of techno...  \n",
       "\n",
       "[11314 rows x 2 columns]"
      ]
     },
     "execution_count": 27,
     "metadata": {},
     "output_type": "execute_result"
    }
   ],
   "source": [
    "df_news_save= df_news\n",
    "df_news_save = df_news_save.drop(['Word tokenize','Clean_Keyword'],axis=1)\n",
    "df_news_save"
   ]
  },
  {
   "cell_type": "code",
   "execution_count": 42,
   "metadata": {
    "id": "Tgrfup4BdlNp"
   },
   "outputs": [],
   "source": [
    "# Saving the data into a CSV Format\n",
    "df_news_save.to_csv(\"df_news_index.csv\", index=False, header=True)"
   ]
  },
  {
   "cell_type": "code",
   "execution_count": 43,
   "metadata": {
    "colab": {
     "base_uri": "https://localhost:8080/",
     "height": 102
    },
    "id": "-bS_Xy__do2Y",
    "outputId": "86f16434-612a-4c59-d624-e6104c0b7ec4"
   },
   "outputs": [
    {
     "data": {
      "text/plain": [
       "'thing,car,nntp,post,host,university,maryland,college,park,line,wonder,anyone,could,enlighten,car,saw,day,sport,car,look,late,early,call,bricklin,door,really,small,addition,front,bumper,separate,rest,body,know,anyone,tellme,model,name,engine,spec,year,production,car,make,history,whatever,info,funky,look,car,please,mail,il,bring,neighborhood,lerxst'"
      ]
     },
     "execution_count": 43,
     "metadata": {},
     "output_type": "execute_result"
    }
   ],
   "source": [
    "#df_news =pd.read_csv(\"df_news.csv\")\n",
    "## Sample of clean keywords\n",
    "df_news.Clean_Keyword[0]"
   ]
  },
  {
   "cell_type": "markdown",
   "metadata": {
    "id": "zDlQjCv1dusc"
   },
   "source": [
    "Now, using TF-IDF to create a document search tool. TF-IDF is the process of calculating the weight of each word (signifying the importance of the word in the corpus/document). The algorithm is used mainly for retrieving information and text mining. \n",
    "\n",
    "* TF (Term Frequency) is how many times a word appears in a document divided by the number of the words in the document. \n",
    "\n",
    "* IDF (Inverse Data Frequency) is the log of the number of documents divided by the number of documents with the word W that we're interested in. \n",
    "\n",
    "TF-IDF is just these two numbers multiplied together - sklearn implements this feature for you in their library. "
   ]
  },
  {
   "cell_type": "code",
   "execution_count": 44,
   "metadata": {
    "id": "gPWCzy3Ad9xP"
   },
   "outputs": [],
   "source": [
    "from sklearn.feature_extraction.text import TfidfVectorizer\n",
    "import operator\n",
    "\n",
    "## Create Vocabulary\n",
    "vocabulary = set()\n",
    "\n",
    "for doc in df_news.Clean_Keyword:\n",
    "    vocabulary.update(doc.split(','))\n",
    "\n",
    "vocabulary = list(vocabulary)\n",
    "\n",
    "# Intializating the tfIdf model\n",
    "tfidf = TfidfVectorizer(vocabulary=vocabulary,dtype=np.float32)\n",
    "\n",
    "# Fit the TfIdf model\n",
    "tfidf.fit(df_news.Clean_Keyword)\n",
    "\n",
    "# Transform the TfIdf model\n",
    "tfidf_tran=tfidf.transform(df_news.Clean_Keyword)"
   ]
  },
  {
   "cell_type": "code",
   "execution_count": 45,
   "metadata": {
    "colab": {
     "base_uri": "https://localhost:8080/",
     "height": 34
    },
    "id": "gplbTNzseXwb",
    "outputId": "e5101810-b03d-4f4c-89a8-fb4bc8cdcf89"
   },
   "outputs": [
    {
     "data": {
      "text/plain": [
       "['papilloma', 'pointermotionmask', 'horde', 'wodziak']"
      ]
     },
     "execution_count": 45,
     "metadata": {},
     "output_type": "execute_result"
    }
   ],
   "source": [
    "vocabulary[0:4] # for example"
   ]
  },
  {
   "cell_type": "code",
   "execution_count": 46,
   "metadata": {
    "id": "jiVCs6nHefBB"
   },
   "outputs": [],
   "source": [
    "# Saving the trained TF-ID Model\n",
    "# I uploaded this to Colab and then ran this. \n",
    "with open('/Users/ronak.k.bhatia/Desktop/Data_STA/tfid.pkl','wb') as handle:\n",
    "    pickle.dump(tfidf_tran, handle)\n",
    "\n",
    "# Load the model! \n",
    "t = pickle.load(open('/Users/ronak.k.bhatia/Desktop/Data_STA/tfid.pkl','rb'))"
   ]
  },
  {
   "cell_type": "code",
   "execution_count": 47,
   "metadata": {
    "id": "t50r__s5fJaI"
   },
   "outputs": [],
   "source": [
    "# Saving the vocabulary\n",
    "# Also added this file to Colab to run it! \n",
    "\n",
    "# Saving the vocabulary\n",
    "with open(\"/Users/ronak.k.bhatia/Desktop/Data_STA/vocabulary_news20group.txt\", \"w\") as file:\n",
    "    file.write(str(vocabulary))\n",
    "\n",
    "### Loading the vocabulary \n",
    "with open(\"/Users/ronak.k.bhatia/Desktop/Data_STA/vocabulary_news20group.txt\", \"r\") as file:\n",
    "    data2 = eval(file.readline())\n"
   ]
  },
  {
   "cell_type": "code",
   "execution_count": 48,
   "metadata": {
    "id": "8wKtZXONioF_"
   },
   "outputs": [],
   "source": [
    "# Creating vector for Query/Search Keywords\n",
    "def gen_vector_T(tokens):\n",
    "\n",
    "    Q = np.zeros((len(vocabulary)))\n",
    "    \n",
    "    x= tfidf.transform(tokens)\n",
    "    for token in tokens[0].split(','):\n",
    "        try:\n",
    "            ind = vocabulary.index(token)\n",
    "            Q[ind]  = x[0, tfidf.vocabulary_[token]]\n",
    "        except:\n",
    "            pass\n",
    "    return Q"
   ]
  },
  {
   "cell_type": "markdown",
   "metadata": {
    "id": "w35SAN4ojBBb"
   },
   "source": [
    "Cosine similarity is the most common metric used to calculate the similarity between document text from input keywords/sentences. It measures the cosine of the angle between two vectors projected in a multi-dimensional space. "
   ]
  },
  {
   "cell_type": "code",
   "execution_count": 49,
   "metadata": {
    "id": "C52ksj2ri7KE"
   },
   "outputs": [],
   "source": [
    "# Calculating Cosine Similarity with the Formula\n",
    "def cosine_sim(a, b):\n",
    "    cos_sim = np.dot(a, b)/(np.linalg.norm(a)*np.linalg.norm(b))\n",
    "    return cos_sim"
   ]
  },
  {
   "cell_type": "code",
   "execution_count": 50,
   "metadata": {
    "id": "1KeKURr6jMqP"
   },
   "outputs": [],
   "source": [
    "# Calculating Cosine Similarity of the Trained TF-IDF to Input Query\n",
    "\n",
    "def cosine_similarity_T(k, query):\n",
    "    #print(\"Cosine Similarity\")\n",
    "    # This cleans up the query that a user has. \n",
    "    preprocessed_query = preprocessed_query = re.sub(\"\\W+\", \" \", query).strip()\n",
    "    tokens = word_tokenize(str(preprocessed_query))\n",
    "    q_df = pd.DataFrame(columns=['q_clean'])\n",
    "    q_df.loc[0,'q_clean'] =tokens\n",
    "    q_df['q_clean'] =wordLemmatizer(q_df.q_clean)\n",
    "    q_df=q_df.replace(to_replace =\"\\[.\", value = '', regex = True)\n",
    "    q_df=q_df.replace(to_replace =\"'\", value = '', regex = True)\n",
    "    q_df=q_df.replace(to_replace =\" \", value = '', regex = True)\n",
    "    q_df=q_df.replace(to_replace ='\\]', value = '', regex = True)\n",
    "    #print(\"\\nQuery:\", query)\n",
    "    #print(\"\")\n",
    "    #print(tokens)\n",
    "    \n",
    "    d_cosines = []\n",
    "    \n",
    "    query_vector = gen_vector_T(q_df['q_clean'])\n",
    "    \n",
    "    for d in tfidf_tran.A:\n",
    "        \n",
    "        d_cosines.append(cosine_sim(query_vector, d))\n",
    "                    \n",
    "    out = np.array(d_cosines).argsort()[-k:][::-1]\n",
    "    #print(\"\")\n",
    "    d_cosines.sort()\n",
    "    #print(out)\n",
    "    a = pd.DataFrame()\n",
    "    for i,index in enumerate(out):\n",
    "        a.loc[i,'index'] = str(index)\n",
    "        a.loc[i,'Subject'] = df_news['Subject'][index]\n",
    "    for j,simScore in enumerate(d_cosines[-k:][::-1]):\n",
    "        a.loc[j,'Score'] = simScore\n",
    "    return a"
   ]
  },
  {
   "cell_type": "code",
   "execution_count": 51,
   "metadata": {
    "colab": {
     "base_uri": "https://localhost:8080/",
     "height": 377
    },
    "id": "AzrQrBfdjnPk",
    "outputId": "6c369569-502d-484b-eb50-eef0f9a75adb"
   },
   "outputs": [
    {
     "name": "stdout",
     "output_type": "stream",
     "text": [
      "CPU times: user 11.1 s, sys: 4.79 s, total: 15.9 s\n",
      "Wall time: 3.08 s\n"
     ]
    },
    {
     "data": {
      "text/html": [
       "<div>\n",
       "<style scoped>\n",
       "    .dataframe tbody tr th:only-of-type {\n",
       "        vertical-align: middle;\n",
       "    }\n",
       "\n",
       "    .dataframe tbody tr th {\n",
       "        vertical-align: top;\n",
       "    }\n",
       "\n",
       "    .dataframe thead th {\n",
       "        text-align: right;\n",
       "    }\n",
       "</style>\n",
       "<table border=\"1\" class=\"dataframe\">\n",
       "  <thead>\n",
       "    <tr style=\"text-align: right;\">\n",
       "      <th></th>\n",
       "      <th>index</th>\n",
       "      <th>Subject</th>\n",
       "      <th>Score</th>\n",
       "    </tr>\n",
       "  </thead>\n",
       "  <tbody>\n",
       "    <tr>\n",
       "      <th>0</th>\n",
       "      <td>4745</td>\n",
       "      <td>4745 DoD Books</td>\n",
       "      <td>0.219301</td>\n",
       "    </tr>\n",
       "    <tr>\n",
       "      <th>1</th>\n",
       "      <td>1650</td>\n",
       "      <td>1650 RasterOps 8XL</td>\n",
       "      <td>0.212578</td>\n",
       "    </tr>\n",
       "    <tr>\n",
       "      <th>2</th>\n",
       "      <td>515</td>\n",
       "      <td>515 LOOKING FOR THE LATEST ACTIX DRIVERS FOR W...</td>\n",
       "      <td>0.202829</td>\n",
       "    </tr>\n",
       "    <tr>\n",
       "      <th>3</th>\n",
       "      <td>4366</td>\n",
       "      <td>4366 Computer Engr vs Computer Science</td>\n",
       "      <td>0.181360</td>\n",
       "    </tr>\n",
       "    <tr>\n",
       "      <th>4</th>\n",
       "      <td>2540</td>\n",
       "      <td>2540 68LC040 vs 68RC040 in Centris 650</td>\n",
       "      <td>0.176790</td>\n",
       "    </tr>\n",
       "    <tr>\n",
       "      <th>5</th>\n",
       "      <td>9601</td>\n",
       "      <td>9601 Summer Internships</td>\n",
       "      <td>0.176644</td>\n",
       "    </tr>\n",
       "    <tr>\n",
       "      <th>6</th>\n",
       "      <td>10557</td>\n",
       "      <td>10557 Pantheism Environmentalism</td>\n",
       "      <td>0.168098</td>\n",
       "    </tr>\n",
       "    <tr>\n",
       "      <th>7</th>\n",
       "      <td>167</td>\n",
       "      <td>167 Texas Ranger Ticket Info</td>\n",
       "      <td>0.165404</td>\n",
       "    </tr>\n",
       "    <tr>\n",
       "      <th>8</th>\n",
       "      <td>8920</td>\n",
       "      <td>8920 Honors Degrees Do they mean anything</td>\n",
       "      <td>0.164479</td>\n",
       "    </tr>\n",
       "    <tr>\n",
       "      <th>9</th>\n",
       "      <td>3673</td>\n",
       "      <td>3673 JOB</td>\n",
       "      <td>0.160078</td>\n",
       "    </tr>\n",
       "  </tbody>\n",
       "</table>\n",
       "</div>"
      ],
      "text/plain": [
       "   index                                            Subject     Score\n",
       "0   4745                                     4745 DoD Books  0.219301\n",
       "1   1650                                 1650 RasterOps 8XL  0.212578\n",
       "2    515  515 LOOKING FOR THE LATEST ACTIX DRIVERS FOR W...  0.202829\n",
       "3   4366             4366 Computer Engr vs Computer Science  0.181360\n",
       "4   2540             2540 68LC040 vs 68RC040 in Centris 650  0.176790\n",
       "5   9601                            9601 Summer Internships  0.176644\n",
       "6  10557                   10557 Pantheism Environmentalism  0.168098\n",
       "7    167                       167 Texas Ranger Ticket Info  0.165404\n",
       "8   8920          8920 Honors Degrees Do they mean anything  0.164479\n",
       "9   3673                                           3673 JOB  0.160078"
      ]
     },
     "execution_count": 51,
     "metadata": {},
     "output_type": "execute_result"
    }
   ],
   "source": [
    "%time cosine_similarity_T(10,'engineering')"
   ]
  },
  {
   "cell_type": "markdown",
   "metadata": {
    "id": "-F4EnaIvj8Lg"
   },
   "source": [
    "Of course, this is one way to do this. However, another way is by using Google's Universal Sentence Encoder! "
   ]
  },
  {
   "cell_type": "code",
   "execution_count": 52,
   "metadata": {
    "colab": {
     "base_uri": "https://localhost:8080/",
     "height": 978
    },
    "id": "ZkjOQw0OkAJi",
    "outputId": "5d755c2e-077d-407b-8fad-73665d527a2a"
   },
   "outputs": [
    {
     "name": "stdout",
     "output_type": "stream",
     "text": [
      "WARNING: pip is being invoked by an old script wrapper. This will fail in a future version of pip.\n",
      "Please see https://github.com/pypa/pip/issues/5599 for advice on fixing the underlying issue.\n",
      "To avoid this problem you can invoke Python with '-m pip' instead of running pip directly.\n",
      "\u001b[31mERROR: Could not find a version that satisfies the requirement tensorflow-gpu (from versions: none)\u001b[0m\n",
      "\u001b[31mERROR: No matching distribution found for tensorflow-gpu\u001b[0m\n",
      "WARNING: pip is being invoked by an old script wrapper. This will fail in a future version of pip.\n",
      "Please see https://github.com/pypa/pip/issues/5599 for advice on fixing the underlying issue.\n",
      "To avoid this problem you can invoke Python with '-m pip' instead of running pip directly.\n",
      "Requirement already satisfied: tensorflow-hub in /usr/local/lib/python3.7/site-packages (0.7.0)\n",
      "Requirement already satisfied: numpy>=1.12.0 in /usr/local/lib/python3.7/site-packages (from tensorflow-hub) (1.17.2)\n",
      "Requirement already satisfied: protobuf>=3.4.0 in /usr/local/lib/python3.7/site-packages (from tensorflow-hub) (3.8.0)\n",
      "Requirement already satisfied: six>=1.10.0 in /usr/local/lib/python3.7/site-packages (from tensorflow-hub) (1.12.0)\n",
      "Requirement already satisfied: setuptools in /usr/local/lib/python3.7/site-packages (from protobuf>=3.4.0->tensorflow-hub) (46.0.0)\n",
      "WARNING: pip is being invoked by an old script wrapper. This will fail in a future version of pip.\n",
      "Please see https://github.com/pypa/pip/issues/5599 for advice on fixing the underlying issue.\n",
      "To avoid this problem you can invoke Python with '-m pip' instead of running pip directly.\n",
      "Requirement already satisfied: seaborn in /usr/local/lib/python3.7/site-packages (0.11.0)\n",
      "Requirement already satisfied: numpy>=1.15 in /usr/local/lib/python3.7/site-packages (from seaborn) (1.17.2)\n",
      "Requirement already satisfied: matplotlib>=2.2 in /usr/local/lib/python3.7/site-packages (from seaborn) (3.3.2)\n",
      "Requirement already satisfied: scipy>=1.0 in /usr/local/lib/python3.7/site-packages (from seaborn) (1.4.1)\n",
      "Requirement already satisfied: pandas>=0.23 in /usr/local/lib/python3.7/site-packages (from seaborn) (1.1.3)\n",
      "Requirement already satisfied: pyparsing!=2.0.4,!=2.1.2,!=2.1.6,>=2.0.3 in /usr/local/lib/python3.7/site-packages (from matplotlib>=2.2->seaborn) (2.4.7)\n",
      "Requirement already satisfied: certifi>=2020.06.20 in /usr/local/lib/python3.7/site-packages (from matplotlib>=2.2->seaborn) (2020.6.20)\n",
      "Requirement already satisfied: kiwisolver>=1.0.1 in /usr/local/lib/python3.7/site-packages (from matplotlib>=2.2->seaborn) (1.2.0)\n",
      "Requirement already satisfied: python-dateutil>=2.1 in /usr/local/lib/python3.7/site-packages (from matplotlib>=2.2->seaborn) (2.8.0)\n",
      "Requirement already satisfied: pillow>=6.2.0 in /usr/local/lib/python3.7/site-packages (from matplotlib>=2.2->seaborn) (6.2.1)\n",
      "Requirement already satisfied: cycler>=0.10 in /usr/local/lib/python3.7/site-packages (from matplotlib>=2.2->seaborn) (0.10.0)\n",
      "Requirement already satisfied: pytz>=2017.2 in /usr/local/lib/python3.7/site-packages (from pandas>=0.23->seaborn) (2019.3)\n",
      "Requirement already satisfied: six>=1.5 in /usr/local/lib/python3.7/site-packages (from python-dateutil>=2.1->matplotlib>=2.2->seaborn) (1.12.0)\n"
     ]
    }
   ],
   "source": [
    "!pip install --upgrade tensorflow-gpu\n",
    "#Install TF-Hub.\n",
    "!pip install tensorflow-hub\n",
    "!pip install seaborn"
   ]
  },
  {
   "cell_type": "code",
   "execution_count": 53,
   "metadata": {
    "id": "Wo1QzWQBkCt_"
   },
   "outputs": [],
   "source": [
    "# Yay more imports\n",
    "import pandas as pd\n",
    "import numpy as np\n",
    "import re, string\n",
    "import os \n",
    "import tensorflow as tf\n",
    "import tensorflow_hub as hub\n",
    "import matplotlib.pyplot as plt\n",
    "import seaborn as sns\n",
    "from sklearn.metrics.pairwise import linear_kernel"
   ]
  },
  {
   "cell_type": "code",
   "execution_count": 54,
   "metadata": {
    "colab": {
     "base_uri": "https://localhost:8080/",
     "height": 84
    },
    "id": "NHbtxWDIkGb9",
    "outputId": "6388e32a-ec75-4814-a158-e329d241a035"
   },
   "outputs": [
    {
     "name": "stdout",
     "output_type": "stream",
     "text": [
      "Version:  2.1.0\n",
      "Eager mode:  True\n",
      "Hub version:  0.7.0\n",
      "GPU is NOT AVAILABLE\n"
     ]
    }
   ],
   "source": [
    "print(\"Version: \", tf.__version__)\n",
    "print(\"Eager mode: \", tf.executing_eagerly())\n",
    "print(\"Hub version: \", hub.__version__)\n",
    "print(\"GPU is\", \"available\" if tf.config.experimental.list_physical_devices(\"GPU\") else \"NOT AVAILABLE\")"
   ]
  },
  {
   "cell_type": "code",
   "execution_count": 56,
   "metadata": {
    "colab": {
     "base_uri": "https://localhost:8080/",
     "height": 84
    },
    "id": "y_EpWWkVk3zl",
    "outputId": "2109ce41-88a8-4a37-e7c4-8ed062bb78ea"
   },
   "outputs": [
    {
     "name": "stdout",
     "output_type": "stream",
     "text": [
      "/Users/ronak.k.bhatia/Desktop/Data_STA/\n",
      "CPU times: user 6.19 s, sys: 1.33 s, total: 7.52 s\n",
      "Wall time: 7.61 s\n"
     ]
    }
   ],
   "source": [
    "# Loading the Google Universal Sentence Encoder's pretrained Model \n",
    "\n",
    "base_dir = \"/Users/ronak.k.bhatia/Desktop/Data_STA/\"\n",
    "\n",
    "print(base_dir)\n",
    "\n",
    "%time model = hub.load(base_dir)\n",
    "# print (\"module %s loaded\" % module_url)\n",
    "\n",
    "# #Create function for using modeltraining\n",
    "def embed(input):\n",
    "    return model(input)"
   ]
  },
  {
   "cell_type": "markdown",
   "metadata": {
    "id": "AYd5y5DCbVef"
   },
   "source": [
    "The following functions are provided use cases of Google's USE (universal sentence encoder) model. Google USE is a pre-trained universal sentence encoder that's publicly available in TensorFlow-Hub. It comes in two variations: one is trained with a transformer encoder and another trained with a deep averaging network. The former is more accurate but more computationally expensive; the latter is less accurate but faster. "
   ]
  },
  {
   "cell_type": "code",
   "execution_count": 57,
   "metadata": {
    "id": "-bPLDM5Jk9up"
   },
   "outputs": [],
   "source": [
    "def plot_similarity(labels, features, rotation):\n",
    "    corr = np.inner(features, features)\n",
    "    sns.set(font_scale=1.2)\n",
    "    g = sns.heatmap(\n",
    "      corr,\n",
    "      xticklabels=labels,\n",
    "      yticklabels=labels,\n",
    "      vmin=0,\n",
    "      vmax=1,\n",
    "      cmap=\"YlOrRd\")\n",
    "    g.set_xticklabels(labels, rotation=rotation)\n",
    "    g.set_title(\"Semantic Similarity\")"
   ]
  },
  {
   "cell_type": "code",
   "execution_count": 58,
   "metadata": {
    "id": "CpG0B0Vkq8D3"
   },
   "outputs": [],
   "source": [
    "def run_and_plot_U(messages_):\n",
    "    message_embeddings_ = embed(messages_)\n",
    "    plot_similarity(messages_, message_embeddings_, 90)"
   ]
  },
  {
   "cell_type": "code",
   "execution_count": 59,
   "metadata": {
    "id": "KkYBA4odq_kV"
   },
   "outputs": [],
   "source": [
    "def SimilarityScore(messages):\n",
    "    message_embedding = embed(messages)\n",
    "    corr = np.inner(message_embedding,message_embedding)\n",
    "    #for i, message_embedding in enumerate(np.array(message_embeddings).tolist()):\n",
    "    #    print(\"Message: {}\".format(messages[i]))\n",
    "    print(corr)"
   ]
  },
  {
   "cell_type": "code",
   "execution_count": 60,
   "metadata": {
    "id": "dBF4-sxErA3X"
   },
   "outputs": [],
   "source": [
    "# Use Case: Word Semantics\n",
    "WordMessage =['big data', 'millions of data', 'millions of records','cloud computing','aws','azure','saas','bank','account']"
   ]
  },
  {
   "cell_type": "code",
   "execution_count": 61,
   "metadata": {
    "colab": {
     "base_uri": "https://localhost:8080/",
     "height": 397
    },
    "id": "KIYgt3-arLT7",
    "outputId": "e16b3477-c27e-4d7a-d5e8-7b09aa82cdb1"
   },
   "outputs": [
    {
     "data": {
      "image/png": "[encoded data removed]",
      "text/plain": [
       "<Figure size 432x288 with 2 Axes>"
      ]
     },
     "metadata": {},
     "output_type": "display_data"
    }
   ],
   "source": [
    "run_and_plot_U(WordMessage) "
   ]
  },
  {
   "cell_type": "code",
   "execution_count": 64,
   "metadata": {
    "colab": {
     "base_uri": "https://localhost:8080/",
     "height": 393
    },
    "id": "oRllNXx-rLmq",
    "outputId": "2668bf3b-0d11-4c46-c111-5405b55315dc"
   },
   "outputs": [
    {
     "data": {
      "image/png": "[encoded data removed]",
      "text/plain": [
       "<Figure size 432x288 with 2 Axes>"
      ]
     },
     "metadata": {},
     "output_type": "display_data"
    }
   ],
   "source": [
    "# Use Case: Semantic Similarity \n",
    "SentMessage =['How old are you?','what is your age?','how are you?','how you doing?']\n",
    "run_and_plot_U(SentMessage)"
   ]
  },
  {
   "cell_type": "code",
   "execution_count": 65,
   "metadata": {
    "colab": {
     "base_uri": "https://localhost:8080/",
     "height": 101
    },
    "id": "ohjJTBxtZCzG",
    "outputId": "ddf18c1e-e3a0-482c-a63b-407d6a0c97ba"
   },
   "outputs": [
    {
     "name": "stdout",
     "output_type": "stream",
     "text": [
      "[[ 1.0000001   0.7828857   0.5078861   0.01781904  0.5038207 ]\n",
      " [ 0.7828857   1.0000002   0.5534512  -0.03384617  0.5246218 ]\n",
      " [ 0.5078861   0.5534512   1.          0.05925354  0.58710694]\n",
      " [ 0.01781904 -0.03384617  0.05925354  1.0000001   0.01667345]\n",
      " [ 0.5038207   0.5246218   0.58710694  0.01667345  0.9999999 ]]\n"
     ]
    }
   ],
   "source": [
    "# Use Case #3: Word, Sentence, and Paragram Semantic \n",
    "word = 'Cloud Computing' \n",
    "Sentence = 'What is Cloud Computing?'\n",
    "Para =(\"Cloud computing is the latest generation technology with a high IT infrastructure that provides us a means by which we can use and utilize the applications as utilities via the internet.\"\n",
    "        \"Cloud computing makes IT infrastructure along with their services available 'on-need' basis.\" \n",
    "        \"The cloud technology includes - a development platform, hard disk, computing power, software application, and database.\")\n",
    "Para5 =(\n",
    "    \"Universal Sentence Encoder embeddings also support short paragraphs. \"\n",
    "    \"There is no hard limit on how long the paragraph is. Roughly, the longer \"\n",
    "    \"the more 'diluted' the embedding will be.\")\n",
    "Para6 =(\"Azure is a cloud computing platform which was launched by Microsoft in February 2010.\"\n",
    "       \"It is an open and flexible cloud platform which helps in development, data storage, service hosting, and service management.\"\n",
    "       \"The Azure tool hosts web applications over the internet with the help of Microsoft data centers.\")\n",
    "case4Message=[word,Sentence,Para,Para5,Para6]\n",
    "\n",
    "SimilarityScore(case4Message)"
   ]
  },
  {
   "cell_type": "code",
   "execution_count": 66,
   "metadata": {
    "colab": {
     "base_uri": "https://localhost:8080/",
     "height": 34
    },
    "id": "aTA-fsdvLysk",
    "outputId": "bd261db2-afee-40e0-a900-d21b358f95cc"
   },
   "outputs": [
    {
     "data": {
      "text/plain": [
       "11314"
      ]
     },
     "execution_count": 66,
     "metadata": {},
     "output_type": "execute_result"
    }
   ],
   "source": [
    "len(df_news.content)"
   ]
  },
  {
   "cell_type": "markdown",
   "metadata": {
    "id": "jOvPg_czL4Ry"
   },
   "source": [
    "Now, let's train the Google USE Model using Batch-wise Chunk Size (1000 rows). "
   ]
  },
  {
   "cell_type": "code",
   "execution_count": 70,
   "metadata": {
    "colab": {
     "base_uri": "https://localhost:8080/",
     "height": 840
    },
    "id": "LRgA0gv-L2vo",
    "outputId": "c703738e-97aa-44f6-b4e8-7db238f57eea"
   },
   "outputs": [
    {
     "name": "stdout",
     "output_type": "stream",
     "text": [
      "<module 'os' from '/usr/local/Cellar/python/3.7.7/Frameworks/Python.framework/Versions/3.7/lib/python3.7/os.py'>\n",
      "0 1000\n",
      "WARNING:tensorflow:From /usr/local/lib/python3.7/site-packages/tensorflow_core/python/ops/resource_variable_ops.py:1786: calling BaseResourceVariable.__init__ (from tensorflow.python.ops.resource_variable_ops) with constraint is deprecated and will be removed in a future version.\n",
      "Instructions for updating:\n",
      "If using Keras pass *_constraint arguments to layers.\n",
      "INFO:tensorflow:Assets written to: /Users/ronak.k.bhatia/Desktop/Data_STA/1000/assets\n",
      "1000\n",
      "1000 2000\n",
      "INFO:tensorflow:Assets written to: /Users/ronak.k.bhatia/Desktop/Data_STA/2000/assets\n",
      "2000\n",
      "2000 3000\n",
      "INFO:tensorflow:Assets written to: /Users/ronak.k.bhatia/Desktop/Data_STA/3000/assets\n",
      "3000\n",
      "3000 4000\n",
      "INFO:tensorflow:Assets written to: /Users/ronak.k.bhatia/Desktop/Data_STA/4000/assets\n",
      "4000\n",
      "4000 5000\n",
      "INFO:tensorflow:Assets written to: /Users/ronak.k.bhatia/Desktop/Data_STA/5000/assets\n",
      "5000\n",
      "5000 6000\n",
      "INFO:tensorflow:Assets written to: /Users/ronak.k.bhatia/Desktop/Data_STA/6000/assets\n",
      "6000\n",
      "6000 7000\n",
      "INFO:tensorflow:Assets written to: /Users/ronak.k.bhatia/Desktop/Data_STA/7000/assets\n",
      "7000\n",
      "7000 8000\n",
      "INFO:tensorflow:Assets written to: /Users/ronak.k.bhatia/Desktop/Data_STA/8000/assets\n",
      "8000\n",
      "8000 9000\n",
      "INFO:tensorflow:Assets written to: /Users/ronak.k.bhatia/Desktop/Data_STA/9000/assets\n",
      "9000\n",
      "9000 10000\n",
      "INFO:tensorflow:Assets written to: /Users/ronak.k.bhatia/Desktop/Data_STA/10000/assets\n",
      "10000\n",
      "10000 11000\n",
      "INFO:tensorflow:Assets written to: /Users/ronak.k.bhatia/Desktop/Data_STA/11000/assets\n",
      "11000\n",
      "11000 11314\n",
      "INFO:tensorflow:Assets written to: /Users/ronak.k.bhatia/Desktop/Data_STA/11314/assets\n",
      "11314\n"
     ]
    }
   ],
   "source": [
    "ls =[]\n",
    "chunksize =1000\n",
    "le =len(df_news.content)\n",
    "for i in range(0,le,chunksize):\n",
    "    if(i+chunksize > le): \n",
    "        chunksize= le;\n",
    "        ls.append(chunksize)\n",
    "    else:\n",
    "        a =i+chunksize\n",
    "        ls.append(a)\n",
    "ls\n",
    "j=0\n",
    "\n",
    "print(os)\n",
    "\n",
    "for i in ls:\n",
    "    directory = \"/Users/ronak.k.bhatia/Desktop/Data_STA/\" + str(i)\n",
    "    if not os.path.exists(directory):\n",
    "        os.makedirs(directory)\n",
    "    directory = \"/Users/ronak.k.bhatia/Desktop/Data_STA/\" + str(i)\n",
    "    print(j,i) \n",
    "    m=embed(df_news.content[j:i])\n",
    "    exported_m = tf.train.Checkpoint(v=tf.Variable(m))\n",
    "    exported_m.f = tf.function(\n",
    "    lambda  x: exported_m.v * x,\n",
    "    input_signature=[tf.TensorSpec(shape=None, dtype=tf.float32)])\n",
    "\n",
    "    tf.saved_model.save(exported_m,directory)\n",
    "    j = i\n",
    "    print(i)"
   ]
  },
  {
   "cell_type": "code",
   "execution_count": 71,
   "metadata": {
    "colab": {
     "base_uri": "https://localhost:8080/",
     "height": 246
    },
    "id": "M57M0bpFMc4N",
    "outputId": "e47823bc-705a-4d7f-bbb0-c44b07ae5e7c"
   },
   "outputs": [
    {
     "name": "stdout",
     "output_type": "stream",
     "text": [
      "/Users/ronak.k.bhatia/Desktop/Data_STA/1000\n",
      "/Users/ronak.k.bhatia/Desktop/Data_STA/2000\n",
      "/Users/ronak.k.bhatia/Desktop/Data_STA/3000\n",
      "/Users/ronak.k.bhatia/Desktop/Data_STA/4000\n",
      "/Users/ronak.k.bhatia/Desktop/Data_STA/5000\n",
      "/Users/ronak.k.bhatia/Desktop/Data_STA/6000\n",
      "/Users/ronak.k.bhatia/Desktop/Data_STA/7000\n",
      "/Users/ronak.k.bhatia/Desktop/Data_STA/8000\n",
      "/Users/ronak.k.bhatia/Desktop/Data_STA/9000\n",
      "/Users/ronak.k.bhatia/Desktop/Data_STA/10000\n",
      "/Users/ronak.k.bhatia/Desktop/Data_STA/11000\n",
      "/Users/ronak.k.bhatia/Desktop/Data_STA/11314\n"
     ]
    }
   ],
   "source": [
    "# Batch-wise, loading the model! \n",
    "for i in ls:\n",
    "    directory = \"/Users/ronak.k.bhatia/Desktop/Data_STA/\" + str(i)\n",
    "    if os.path.exists(directory):\n",
    "        print(directory)\n",
    "        imported_m = tf.saved_model.load(directory)\n",
    "        a= imported_m.v.numpy()\n",
    "        #print(a)\n",
    "        exec(f'load{i} = a')"
   ]
  },
  {
   "cell_type": "code",
   "execution_count": 72,
   "metadata": {
    "id": "TVBx2LQbSdyu"
   },
   "outputs": [
    {
     "data": {
      "text/plain": [
       "(11314, 512)"
      ]
     },
     "execution_count": 72,
     "metadata": {},
     "output_type": "execute_result"
    }
   ],
   "source": [
    "# Concatenate the array from the batchwise loaded model. \n",
    "con_a =np.concatenate((load1000, load2000,load3000,load4000,load5000,load6000,load7000,load8000,load9000,load10000,load11000,load11314))\n",
    "con_a.shape"
   ]
  },
  {
   "cell_type": "code",
   "execution_count": 73,
   "metadata": {},
   "outputs": [],
   "source": [
    "#Train the model\n",
    "Model_USE= embed(df_news.content[0:2500])"
   ]
  },
  {
   "cell_type": "code",
   "execution_count": 74,
   "metadata": {},
   "outputs": [
    {
     "name": "stdout",
     "output_type": "stream",
     "text": [
      "INFO:tensorflow:Assets written to: /Users/ronak.k.bhatia/Desktop/Data_STA/assets\n"
     ]
    }
   ],
   "source": [
    "#Save the model\n",
    "exported = tf.train.Checkpoint(v=tf.Variable(Model_USE))\n",
    "exported.f = tf.function(\n",
    "    lambda  x: exported.v * x,\n",
    "    input_signature=[tf.TensorSpec(shape=None, dtype=tf.float32)])\n",
    "\n",
    "tf.saved_model.save(exported,\"/Users/ronak.k.bhatia/Desktop/Data_STA\")"
   ]
  },
  {
   "cell_type": "code",
   "execution_count": 75,
   "metadata": {},
   "outputs": [],
   "source": [
    "#  Create function to get the top most similar documents by giving input keyword/sentence\n",
    "\n",
    "def SearchDocument(query):\n",
    "    q =[query]\n",
    "    # embed the query for calcluating the similarity\n",
    "    Q_Train =embed(q)\n",
    "    \n",
    "    #loadedmodel =imported_m.v.numpy()\n",
    "    # Calculate the Similarity\n",
    "    linear_similarities = linear_kernel(Q_Train, con_a).flatten() \n",
    "    #Sort top 10 index with similarity score\n",
    "    Top_index_doc = linear_similarities.argsort()[:-11:-1]\n",
    "    # sort by similarity score\n",
    "    linear_similarities.sort()\n",
    "    a = pd.DataFrame()\n",
    "    for i,index in enumerate(Top_index_doc):\n",
    "        a.loc[i,'index'] = str(index)\n",
    "        a.loc[i,'File_Name'] = df_news['Subject'][index] ## Read File name with index from File_data DF\n",
    "    for j,simScore in enumerate(linear_similarities[:-11:-1]):\n",
    "        a.loc[j,'Score'] = simScore\n",
    "    return a"
   ]
  },
  {
   "cell_type": "code",
   "execution_count": 80,
   "metadata": {},
   "outputs": [
    {
     "data": {
      "text/html": [
       "<div>\n",
       "<style scoped>\n",
       "    .dataframe tbody tr th:only-of-type {\n",
       "        vertical-align: middle;\n",
       "    }\n",
       "\n",
       "    .dataframe tbody tr th {\n",
       "        vertical-align: top;\n",
       "    }\n",
       "\n",
       "    .dataframe thead th {\n",
       "        text-align: right;\n",
       "    }\n",
       "</style>\n",
       "<table border=\"1\" class=\"dataframe\">\n",
       "  <thead>\n",
       "    <tr style=\"text-align: right;\">\n",
       "      <th></th>\n",
       "      <th>index</th>\n",
       "      <th>File_Name</th>\n",
       "      <th>Score</th>\n",
       "    </tr>\n",
       "  </thead>\n",
       "  <tbody>\n",
       "    <tr>\n",
       "      <th>0</th>\n",
       "      <td>4113</td>\n",
       "      <td>4113 Hockey and the Hispanic community</td>\n",
       "      <td>0.472457</td>\n",
       "    </tr>\n",
       "    <tr>\n",
       "      <th>1</th>\n",
       "      <td>8370</td>\n",
       "      <td>8370 Hockey and the Hispanic community</td>\n",
       "      <td>0.455613</td>\n",
       "    </tr>\n",
       "    <tr>\n",
       "      <th>2</th>\n",
       "      <td>3939</td>\n",
       "      <td>3939 Hockey and the Hispanic community</td>\n",
       "      <td>0.430131</td>\n",
       "    </tr>\n",
       "    <tr>\n",
       "      <th>3</th>\n",
       "      <td>9954</td>\n",
       "      <td>9954 Hockey Hell</td>\n",
       "      <td>0.430085</td>\n",
       "    </tr>\n",
       "    <tr>\n",
       "      <th>4</th>\n",
       "      <td>9252</td>\n",
       "      <td>9252 NHL Team Items</td>\n",
       "      <td>0.423161</td>\n",
       "    </tr>\n",
       "    <tr>\n",
       "      <th>5</th>\n",
       "      <td>8180</td>\n",
       "      <td>8180 Hockey Hispanic market</td>\n",
       "      <td>0.418002</td>\n",
       "    </tr>\n",
       "    <tr>\n",
       "      <th>6</th>\n",
       "      <td>5490</td>\n",
       "      <td>5490 Too Many European in NHL</td>\n",
       "      <td>0.405462</td>\n",
       "    </tr>\n",
       "    <tr>\n",
       "      <th>7</th>\n",
       "      <td>1516</td>\n",
       "      <td>1516 Hockey and the Hispanic community</td>\n",
       "      <td>0.390072</td>\n",
       "    </tr>\n",
       "    <tr>\n",
       "      <th>8</th>\n",
       "      <td>1149</td>\n",
       "      <td>1149 Hockey Hispanic market</td>\n",
       "      <td>0.389022</td>\n",
       "    </tr>\n",
       "    <tr>\n",
       "      <th>9</th>\n",
       "      <td>10268</td>\n",
       "      <td>10268 Too Many Europeans in NHL</td>\n",
       "      <td>0.388691</td>\n",
       "    </tr>\n",
       "  </tbody>\n",
       "</table>\n",
       "</div>"
      ],
      "text/plain": [
       "   index                               File_Name     Score\n",
       "0   4113  4113 Hockey and the Hispanic community  0.472457\n",
       "1   8370  8370 Hockey and the Hispanic community  0.455613\n",
       "2   3939  3939 Hockey and the Hispanic community  0.430131\n",
       "3   9954                        9954 Hockey Hell  0.430085\n",
       "4   9252                     9252 NHL Team Items  0.423161\n",
       "5   8180             8180 Hockey Hispanic market  0.418002\n",
       "6   5490           5490 Too Many European in NHL  0.405462\n",
       "7   1516  1516 Hockey and the Hispanic community  0.390072\n",
       "8   1149             1149 Hockey Hispanic market  0.389022\n",
       "9  10268         10268 Too Many Europeans in NHL  0.388691"
      ]
     },
     "execution_count": 80,
     "metadata": {},
     "output_type": "execute_result"
    }
   ],
   "source": [
    "SearchDocument('hockey')"
   ]
  },
  {
   "cell_type": "code",
   "execution_count": 82,
   "metadata": {},
   "outputs": [
    {
     "data": {
      "text/plain": [
       "<module 'tensorflow_core.compat.v1' from '/usr/local/lib/python3.7/site-packages/tensorflow_core/_api/v2/compat/v1/__init__.py'>"
      ]
     },
     "execution_count": 82,
     "metadata": {},
     "output_type": "execute_result"
    }
   ],
   "source": [
    "tf.compat.v1"
   ]
  },
  {
   "cell_type": "code",
   "execution_count": 83,
   "metadata": {},
   "outputs": [],
   "source": [
    "tf.compat.v1.disable_eager_execution()\n",
    "liteMod = hub.Module(\"https://tfhub.dev/google/universal-sentence-encoder-lite/2\")"
   ]
  },
  {
   "cell_type": "code",
   "execution_count": 86,
   "metadata": {},
   "outputs": [
    {
     "name": "stdout",
     "output_type": "stream",
     "text": [
      "INFO:tensorflow:Saver not created because there are no variables in the graph to restore\n"
     ]
    },
    {
     "name": "stderr",
     "output_type": "stream",
     "text": [
      "INFO:tensorflow:Saver not created because there are no variables in the graph to restore\n"
     ]
    }
   ],
   "source": [
    "input_placeholder = tf.compat.v1.sparse_placeholder(tf.int64, shape=[None, None])\n",
    "encodings = liteMod(\n",
    "    inputs=dict(\n",
    "        values=input_placeholder.values,\n",
    "        indices=input_placeholder.indices,\n",
    "        dense_shape=input_placeholder.dense_shape))"
   ]
  },
  {
   "cell_type": "code",
   "execution_count": 95,
   "metadata": {},
   "outputs": [
    {
     "name": "stdout",
     "output_type": "stream",
     "text": [
      "INFO:tensorflow:Saver not created because there are no variables in the graph to restore\n"
     ]
    },
    {
     "name": "stderr",
     "output_type": "stream",
     "text": [
      "INFO:tensorflow:Saver not created because there are no variables in the graph to restore\n"
     ]
    },
    {
     "name": "stdout",
     "output_type": "stream",
     "text": [
      "SentencePiece model loaded at b'/var/folders/70/9mshw7f517bb1qlnx3s9f_mc0000gn/T/tfhub_modules/539544f0a997d91c327c23285ea00c37588d92cc/assets/universal_encoder_8k_spm.model'.\n"
     ]
    }
   ],
   "source": [
    "import sentencepiece as spm #https://github.com/google/sentencepiece\n",
    "\n",
    "with tf.compat.v1.Session() as sess:\n",
    "    spm_path = sess.run(liteMod(signature=\"spm_path\"))\n",
    "\n",
    "sp = spm.SentencePieceProcessor()\n",
    "sp.Load(spm_path)\n",
    "print(\"SentencePiece model loaded at {}.\".format(spm_path))"
   ]
  },
  {
   "cell_type": "code",
   "execution_count": 88,
   "metadata": {},
   "outputs": [],
   "source": [
    "def process_to_IDs_in_sparse_format(sp, sentences):\n",
    "  # An utility method that processes sentences with the sentence piece processor\n",
    "  # 'sp' and returns the results in tf.SparseTensor-similar format:\n",
    "  # (values, indices, dense_shape)\n",
    "    ids = [sp.EncodeAsIds(x) for x in sentences]\n",
    "    max_len = max(len(x) for x in ids)\n",
    "    dense_shape=(len(ids), max_len)\n",
    "    values=[item for sublist in ids for item in sublist]\n",
    "    indices=[[row,col] for row in range(len(ids)) for col in range(len(ids[row]))]\n",
    "    return (values, indices, dense_shape)"
   ]
  },
  {
   "cell_type": "code",
   "execution_count": 96,
   "metadata": {},
   "outputs": [],
   "source": [
    "messages =['semantic search']\n",
    "values, indices, dense_shape = process_to_IDs_in_sparse_format(sp, messages)\n",
    "\n",
    "with tf.compat.v1.Session() as session:\n",
    "    session.run([tf.compat.v1.global_variables_initializer(), tf.compat.v1.tables_initializer()])\n",
    "    message_embeddings = session.run(\n",
    "      encodings,\n",
    "      feed_dict={input_placeholder.values: values,\n",
    "                input_placeholder.indices: indices,\n",
    "                input_placeholder.dense_shape: dense_shape})"
   ]
  },
  {
   "cell_type": "code",
   "execution_count": 97,
   "metadata": {},
   "outputs": [],
   "source": [
    "directory = \"/Users/ronak.k.bhatia/Desktop/liteTrainModel\"\n",
    "exported_m = tf.train.Checkpoint(v=tf.Variable(message_embeddings))\n",
    "exported_m.f = tf.function(\n",
    "lambda  x: exported_m.v * x,\n",
    "input_signature=[tf.TensorSpec(shape=None, dtype=tf.float32)])\n",
    "\n",
    "#tf.saved_model.save(exported_m,directory)"
   ]
  },
  {
   "cell_type": "code",
   "execution_count": 98,
   "metadata": {},
   "outputs": [
    {
     "name": "stdout",
     "output_type": "stream",
     "text": [
      "INFO:tensorflow:Saver not created because there are no variables in the graph to restore\n"
     ]
    },
    {
     "name": "stderr",
     "output_type": "stream",
     "text": [
      "INFO:tensorflow:Saver not created because there are no variables in the graph to restore\n"
     ]
    }
   ],
   "source": [
    "g = tf.Graph()\n",
    "with g.as_default():\n",
    "  # We will be feeding 1D tensors of text into the graph.\n",
    "    #text_input = tf.compat.v1.placeholder(dtype=tf.string, shape=[None])\n",
    "    embed = hub.Module(\"https://tfhub.dev/google/universal-sentence-encoder-lite/2\")\n",
    "    input_placeholder = tf.compat.v1.sparse_placeholder(tf.int64, shape=[None, None])\n",
    "    encodings = embed(\n",
    "    inputs=dict(\n",
    "        values=input_placeholder.values,\n",
    "        indices=input_placeholder.indices,\n",
    "        dense_shape=input_placeholder.dense_shape))\n",
    "    \n",
    "    #embedded_text = embed(text_input)\n",
    "    #init_op = tf.group([tf.global_variables_initializer(), tf.tables_initializer()])\n",
    "    messages =['semantic search']\n",
    "    values, indices, dense_shape = process_to_IDs_in_sparse_format(sp, messages)\n",
    "    with tf.compat.v1.Session() as session:\n",
    "        session.run([tf.compat.v1.global_variables_initializer(), tf.compat.v1.tables_initializer()])\n",
    "        message_embeddings = session.run(\n",
    "          encodings,\n",
    "          feed_dict={input_placeholder.values: values,\n",
    "                input_placeholder.indices: indices,\n",
    "                input_placeholder.dense_shape: dense_shape})\n",
    "    result =message_embeddings\n",
    "g.finalize()\n"
   ]
  },
  {
   "cell_type": "code",
   "execution_count": 99,
   "metadata": {},
   "outputs": [
    {
     "data": {
      "text/plain": [
       "array([[-5.30562028e-02, -5.75472377e-02, -4.01304625e-02,\n",
       "        -1.92222279e-02,  5.75560592e-02, -5.69449812e-02,\n",
       "        -1.93946306e-02, -5.52694909e-02,  5.81079535e-02,\n",
       "        -2.07367782e-02,  4.26858217e-02, -1.27151543e-02,\n",
       "        -1.96228530e-02, -5.65154292e-02, -5.23750260e-02,\n",
       "         5.86796775e-02, -5.80832101e-02,  4.01767418e-02,\n",
       "         4.44107056e-02,  5.85390888e-02,  6.85156463e-03,\n",
       "        -4.32686880e-02,  2.02691741e-02, -3.63251828e-02,\n",
       "        -5.37222810e-02,  5.17444983e-02, -3.60193066e-02,\n",
       "         4.81115952e-02, -5.76635264e-02, -4.90570255e-02,\n",
       "        -3.74865159e-02,  1.48849403e-02,  3.67814191e-02,\n",
       "         2.64371950e-02,  2.49772705e-02, -1.48140211e-02,\n",
       "        -5.75763173e-02, -1.64386481e-02,  5.49019985e-02,\n",
       "        -4.78671268e-02,  5.19558303e-02, -1.80436727e-02,\n",
       "         8.03187868e-05, -1.82410125e-02,  5.70850633e-02,\n",
       "         4.35936041e-02,  5.29314540e-02,  5.85442446e-02,\n",
       "         5.72029352e-02,  5.39100654e-02,  4.56752852e-02,\n",
       "         5.25651425e-02, -5.72340377e-02, -5.78502230e-02,\n",
       "         4.98086847e-02,  2.13892106e-02, -5.78764603e-02,\n",
       "        -3.22630978e-03,  4.50984165e-02, -4.67464626e-02,\n",
       "        -2.48872880e-02,  5.56599498e-02, -5.65950386e-02,\n",
       "         1.32081322e-02, -3.92254740e-02,  4.74215485e-02,\n",
       "        -8.13747849e-03,  5.40301837e-02,  5.76278009e-02,\n",
       "         3.79712470e-02,  5.31509854e-02,  5.24068065e-02,\n",
       "         3.45856212e-02,  4.70404327e-02,  4.69430797e-02,\n",
       "        -4.48137335e-02, -1.77363511e-02,  5.87541200e-02,\n",
       "        -3.42642665e-02,  5.99131046e-04,  6.67485781e-03,\n",
       "         4.39420305e-02, -5.85059673e-02, -5.39171807e-02,\n",
       "         4.82276902e-02,  2.80854516e-02,  1.84512716e-02,\n",
       "        -5.54641895e-02, -3.28375958e-02,  5.86485825e-02,\n",
       "         2.68557630e-02, -5.13409078e-02, -5.85568585e-02,\n",
       "        -3.17059383e-02, -5.66603690e-02, -5.60911559e-02,\n",
       "        -4.54375669e-02, -3.84266786e-02, -2.43130103e-02,\n",
       "         3.97300795e-02, -5.83739094e-02, -3.44861336e-02,\n",
       "         2.57570166e-02, -2.88976803e-02,  4.50035296e-02,\n",
       "        -5.19749671e-02, -5.85304014e-02,  5.74678890e-02,\n",
       "        -4.11922298e-02,  3.67179103e-02, -4.24339473e-02,\n",
       "        -4.06982228e-02, -5.33316731e-02, -3.10263280e-02,\n",
       "         1.96347404e-02, -2.45072171e-02, -4.90193591e-02,\n",
       "         5.78863285e-02, -4.86594327e-02, -3.90964076e-02,\n",
       "        -2.88069434e-02, -5.87463900e-02, -9.35643725e-03,\n",
       "        -5.62309437e-02, -4.04041782e-02,  5.71914837e-02,\n",
       "         5.73857985e-02,  4.58448045e-02,  5.50850667e-02,\n",
       "        -1.52377309e-02,  5.81997521e-02, -5.79951592e-02,\n",
       "        -4.46247160e-02,  1.72833521e-02, -4.01243791e-02,\n",
       "         2.38420460e-02, -5.65447249e-02,  3.51715758e-02,\n",
       "        -4.93786894e-02,  4.16432619e-02, -5.16375750e-02,\n",
       "         1.26918750e-02,  5.47949933e-02,  5.84915094e-02,\n",
       "        -3.69005315e-02,  4.55792323e-02,  5.08940518e-02,\n",
       "         2.11901348e-02,  3.41838449e-02,  4.99544851e-02,\n",
       "        -5.26761077e-02, -5.82173876e-02, -5.85118495e-02,\n",
       "         2.54737437e-02, -3.37156926e-05, -2.07209531e-02,\n",
       "        -4.67950180e-02,  5.81849962e-02,  5.86833358e-02,\n",
       "        -3.38326432e-02,  4.95293438e-02,  8.85951705e-03,\n",
       "         4.89675999e-02,  3.44583020e-02, -3.94281186e-02,\n",
       "         5.54764159e-02,  4.33496125e-02, -5.11671118e-02,\n",
       "        -4.97739092e-02,  1.78743079e-02,  7.61003932e-03,\n",
       "        -5.73524386e-02, -5.87043762e-02,  1.60103142e-02,\n",
       "        -5.58410101e-02,  3.95263061e-02, -2.37128213e-02,\n",
       "        -3.21265645e-02,  4.91438657e-02,  5.86111322e-02,\n",
       "         1.90065410e-02,  5.85561357e-02,  5.06685227e-02,\n",
       "        -5.83975315e-02, -3.47101465e-02, -5.02869524e-02,\n",
       "        -1.80224404e-02,  5.72284982e-02,  5.77175878e-02,\n",
       "         2.49999808e-03, -5.06570600e-02, -4.61500958e-02,\n",
       "         9.84614994e-03,  5.73817268e-02, -3.32591645e-02,\n",
       "         6.12847321e-03,  1.57248322e-02,  2.81441882e-02,\n",
       "        -5.42392768e-02,  5.34350090e-02,  2.04842016e-02,\n",
       "         3.63547653e-02,  2.25731563e-02, -5.06225936e-02,\n",
       "        -4.17903215e-02, -5.16874678e-02, -3.21096964e-02,\n",
       "         2.68794950e-02, -4.49522473e-02,  5.84110469e-02,\n",
       "         4.09653448e-02, -3.95980440e-02,  5.43334447e-02,\n",
       "        -5.67475781e-02,  2.58070994e-02, -2.23940536e-02,\n",
       "        -5.21803387e-02, -5.68510182e-02,  5.77561520e-02,\n",
       "        -5.59662655e-02, -1.10953702e-02,  2.24860329e-02,\n",
       "         5.22564761e-02, -4.83420528e-02,  5.43850251e-02,\n",
       "        -5.78991771e-02,  5.68246841e-02, -4.63916659e-02,\n",
       "        -1.15382196e-02, -5.85780293e-02,  3.09687722e-02,\n",
       "         4.36711945e-02, -5.45998253e-02,  5.80258183e-02,\n",
       "         4.18759271e-04,  5.27337566e-02,  5.67612499e-02,\n",
       "        -1.42537365e-02, -3.24149281e-02,  5.87178394e-02,\n",
       "        -1.84669476e-02,  1.82063524e-02,  7.49241933e-03,\n",
       "        -3.52392904e-02,  1.36375045e-02,  3.09237801e-02,\n",
       "         5.51327392e-02, -1.75433811e-02, -2.75370572e-02,\n",
       "        -6.41644513e-03,  2.46203020e-02, -5.84056154e-02,\n",
       "         3.98214012e-02, -5.51901087e-02, -4.26051952e-02,\n",
       "         2.66640563e-03,  4.94165607e-02, -1.57932434e-02,\n",
       "         3.38314995e-02,  5.81754744e-02, -3.61835696e-02,\n",
       "        -3.35423127e-02, -4.13106121e-02,  5.68493679e-02,\n",
       "        -4.71230708e-02,  3.93587053e-02,  2.47229123e-03,\n",
       "        -4.86171097e-02,  2.81333886e-02, -2.22372008e-03,\n",
       "         2.27161851e-02, -5.87502345e-02,  5.79934604e-02,\n",
       "        -1.66472141e-02, -5.42790480e-02, -2.31084190e-02,\n",
       "        -4.15125526e-02,  2.98753586e-02,  5.60925156e-02,\n",
       "        -2.32778341e-02, -5.23958988e-02,  5.61282597e-02,\n",
       "        -5.58449402e-02, -4.12745625e-02, -3.60162444e-02,\n",
       "         2.92347874e-02,  2.64285076e-02,  5.80081679e-02,\n",
       "        -5.21954522e-02,  4.36888337e-02,  5.38689159e-02,\n",
       "         3.44292261e-02,  5.76653741e-02,  3.73721384e-02,\n",
       "         5.43575324e-02, -5.86185753e-02,  5.85159287e-02,\n",
       "        -2.04362851e-02, -5.83281703e-02,  5.53014427e-02,\n",
       "         3.54783125e-02,  5.02208136e-02,  5.34904599e-02,\n",
       "         5.85646294e-02,  3.01478058e-02, -3.96535080e-03,\n",
       "        -3.10819857e-02,  5.83302006e-02, -2.14115959e-02,\n",
       "        -4.24651690e-02, -3.37068811e-02,  5.45902364e-02,\n",
       "         5.29926829e-02,  5.37347570e-02,  2.83252541e-02,\n",
       "        -5.85823916e-02,  5.79630397e-02, -2.16852706e-02,\n",
       "         5.40828221e-02,  4.67857718e-02,  5.79594746e-02,\n",
       "        -5.60427979e-02,  4.37071882e-02, -5.69280311e-02,\n",
       "         3.45498212e-02, -1.80158373e-02,  5.85367344e-02,\n",
       "        -5.64325377e-02, -5.21439016e-02, -5.14861830e-02,\n",
       "         5.55464886e-02, -5.78193888e-02, -2.69406643e-02,\n",
       "        -3.44624855e-02,  5.78933693e-02,  3.79113443e-02,\n",
       "         2.96018012e-02,  5.87451719e-02, -1.24632474e-02,\n",
       "         1.67570654e-02,  2.26478707e-02,  4.66773361e-02,\n",
       "        -2.88183745e-02, -4.79610004e-02,  1.23060886e-02,\n",
       "         1.22643085e-02,  5.31061292e-02,  5.43631278e-02,\n",
       "        -2.12569349e-02,  5.79217151e-02,  7.26861414e-03,\n",
       "         3.70390378e-02, -1.33185433e-02, -1.64888892e-02,\n",
       "        -3.25461142e-02,  1.61872245e-03, -5.74220791e-02,\n",
       "        -5.73120303e-02, -5.49702942e-02, -5.29146679e-02,\n",
       "         4.80807312e-02, -3.62875573e-02, -4.23081070e-02,\n",
       "         5.53309396e-02, -5.54402731e-02, -2.56338697e-02,\n",
       "         6.61331229e-03, -5.01976088e-02, -5.67904674e-02,\n",
       "        -5.52241132e-02, -5.83632477e-02, -5.28245373e-03,\n",
       "         5.79883121e-02, -5.42152524e-02,  4.60417159e-02,\n",
       "        -2.05825195e-02,  4.37312573e-02,  4.64678034e-02,\n",
       "         5.86639903e-02, -4.15867232e-02, -2.03339774e-02,\n",
       "         3.78284343e-02, -4.55101468e-02, -5.44436984e-02,\n",
       "        -5.81904352e-02,  1.28543330e-03, -1.52720874e-02,\n",
       "        -5.20680398e-02,  5.63316606e-02, -2.71991529e-02,\n",
       "        -5.86372949e-02,  4.36872095e-02, -4.02280726e-02,\n",
       "        -5.50338179e-02,  5.86159341e-02,  5.60062416e-02,\n",
       "         5.14518395e-02, -4.23176363e-02, -5.12444228e-02,\n",
       "        -5.87242916e-02, -4.53877263e-02,  5.39573394e-02,\n",
       "        -5.62216751e-02,  5.82453534e-02, -5.14042713e-02,\n",
       "         5.78806400e-02,  1.05787246e-02, -4.80663776e-02,\n",
       "         2.39443574e-02, -3.77616584e-02,  5.39931841e-02,\n",
       "         5.25011234e-02,  7.36187678e-04, -5.84148094e-02,\n",
       "         5.46737611e-02, -5.87023608e-02,  4.38726507e-02,\n",
       "        -3.91698591e-02,  5.69351353e-02,  5.33077605e-02,\n",
       "         3.93244810e-02, -5.57658337e-02,  2.28796445e-04,\n",
       "         5.41512594e-02,  5.66697493e-02, -4.70194854e-02,\n",
       "         1.07471142e-02,  1.38646746e-02, -5.63072227e-02,\n",
       "        -5.55354916e-02, -4.47899923e-02, -5.46651892e-02,\n",
       "        -5.77592738e-02,  4.57650945e-02, -4.93011363e-02,\n",
       "         5.41491546e-02, -5.87468855e-02, -2.10379604e-02,\n",
       "        -5.67598529e-02, -3.35383527e-02, -3.32850330e-02,\n",
       "         4.69364896e-02,  3.87424082e-02,  5.85559309e-02,\n",
       "        -4.32649329e-02,  5.05305640e-02,  5.62623963e-02,\n",
       "         2.03412101e-02,  5.82204312e-02,  5.18756881e-02,\n",
       "        -4.95369881e-02,  1.94759909e-02,  5.72850704e-02,\n",
       "        -3.10376781e-04, -2.77016461e-02, -5.06470762e-02,\n",
       "         5.80781475e-02,  6.75130170e-03,  3.45711038e-02,\n",
       "         5.79014719e-02, -3.56378220e-02, -4.39394340e-02,\n",
       "         5.77926449e-02,  1.20511847e-02,  2.25530937e-02,\n",
       "         5.86076453e-02, -4.83034253e-02,  5.86088412e-02,\n",
       "        -5.75856194e-02, -5.84191307e-02,  2.05742344e-02,\n",
       "         2.40106750e-02,  3.23926285e-02, -3.91169637e-02,\n",
       "         5.84615171e-02,  4.44449633e-02, -2.96927840e-02,\n",
       "         1.44739030e-02, -4.93217446e-02, -2.01947503e-02,\n",
       "        -4.78280932e-02,  3.79373878e-03, -2.00907700e-02,\n",
       "        -4.39980105e-02,  1.44795235e-02, -5.78066446e-02,\n",
       "        -4.30979915e-02,  5.81760630e-02, -5.83154783e-02,\n",
       "         5.61191551e-02, -4.73335534e-02, -5.86748309e-02,\n",
       "         5.03802411e-02, -5.74255101e-02,  5.12952581e-02,\n",
       "         4.75762561e-02, -3.42702214e-03, -1.29210837e-02,\n",
       "        -1.12292618e-02, -3.00914573e-04,  1.84846837e-02,\n",
       "        -5.42315580e-02, -5.82121685e-02, -3.08048297e-02,\n",
       "        -4.40522321e-02,  5.20302355e-02,  5.87316491e-02,\n",
       "        -2.39923112e-02, -2.97308303e-02, -5.53965569e-02,\n",
       "         4.99769188e-02, -2.05016341e-02]], dtype=float32)"
      ]
     },
     "execution_count": 99,
     "metadata": {},
     "output_type": "execute_result"
    }
   ],
   "source": [
    "message_embeddings"
   ]
  },
  {
   "cell_type": "code",
   "execution_count": null,
   "metadata": {},
   "outputs": [],
   "source": []
  }
 ],
 "metadata": {
  "colab": {
   "collapsed_sections": [],
   "name": "Semantic_Text_Similarity_Exploration.ipynb",
   "provenance": []
  },
  "kernelspec": {
   "display_name": "Python 3",
   "language": "python",
   "name": "python3"
  },
  "language_info": {
   "codemirror_mode": {
    "name": "ipython",
    "version": 3
   },
   "file_extension": ".py",
   "mimetype": "text/x-python",
   "name": "python",
   "nbconvert_exporter": "python",
   "pygments_lexer": "ipython3",
   "version": "3.7.7"
  }
 },
 "nbformat": 4,
 "nbformat_minor": 1
}
